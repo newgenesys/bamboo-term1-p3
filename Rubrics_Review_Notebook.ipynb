{
 "cells": [
  {
   "cell_type": "markdown",
   "metadata": {},
   "source": [
    "# Live Review Notebook-386077"
   ]
  },
  {
   "cell_type": "markdown",
   "metadata": {},
   "source": [
    "# <span style=\"color:rgb(0,30,255)\">Vehicle Detection and Tracking</span>\n",
    "\n"
   ]
  },
  {
   "cell_type": "markdown",
   "metadata": {},
   "source": [
    "## <span style=\"color:rgb(41,121,255)\">Writeup / README</span>\n"
   ]
  },
  {
   "cell_type": "markdown",
   "metadata": {},
   "source": [
    "### <span style=\"color:rgb(50,50,50)\">Section 1 SPECIFICATION</span> \n",
    "\n",
    "#### <span style=\"color:rgb(183,28,28)\">The writeup / README should include a statement and supporting figures / images that explain how each rubric item was addressed, and specifically where in the code each step was handled.</span> \n",
    "<span style=\"color:rgb(50,50,50)\">Tip: Please don't fail the student on this rubric item just because something is missing from the writeup/README. If something is missing from the writeup but you can see it was executed correctly in the project code, please don't fail the project solely because the explanation wasn't there. If the writeup is missing entirely please select \"Can't Review\".</span>"
   ]
  },
  {
   "cell_type": "markdown",
   "metadata": {},
   "source": [
    "## <span style=\"color:rgb(41,121,255)\">Histogram of Oriented Gradients (HOG)\n",
    "\n",
    "</span>\n"
   ]
  },
  {
   "cell_type": "markdown",
   "metadata": {},
   "source": [
    "### <span style=\"color:rgb(50,50,50)\">Section 2 SPECIFICATION</span>\n",
    "#### <span style=\"color:rgb(183,28,28)\">Explanation given for methods used to extract HOG features, including which color space was chosen, which HOG parameters (orientations, pixels_per_cell, cells_per_block), and why.</span>\n",
    "<span style=\"color:rgb(50,50,50)\">Tip: Students should provide some discussion of how they went about extracting HOG features, how they settled on their choices of parameter settings.</span>"
   ]
  },
  {
   "cell_type": "markdown",
   "metadata": {},
   "source": [
    "### <span style=\"color:rgb(50,50,50)\">Section 3 SPECIFICATION</span>\n",
    "#### <span style=\"color:rgb(183,28,28)\">The HOG features extracted from the training data have been used to train a classifier, could be SVM, Decision Tree or other. Features should be scaled to zero mean and unit variance before training the classifier.\n",
    "\n",
    "</span>\n",
    "<span style=\"color:rgb(50,50,50)\">Tip: Students are free to use HOG features alone, or include color features (spatially binned or histograms) in their feature vector here.\n",
    "</span>"
   ]
  },
  {
   "cell_type": "markdown",
   "metadata": {},
   "source": [
    "## <span style=\"color:rgb(41,121,255)\">Sliding Window Search\n",
    "\n",
    "</span>"
   ]
  },
  {
   "cell_type": "markdown",
   "metadata": {},
   "source": [
    "### <span style=\"color:rgb(50,50,50)\">Section 4 SPECIFICATION</span>\n",
    "#### <span style=\"color:rgb(183,28,28)\">A sliding window approach has been implemented, where overlapping tiles in each test image are classified as vehicle or non-vehicle. Some justification has been given for the particular implementation chosen.\n",
    "</span>\n",
    "<span style=\"color:rgb(50,50,50)\">Tip: In this case, there are various approaches that may be taken with regard to which region of the image to search, how large to make the tiles and with how much overlap. There are not particular restrictions, but some justification should be provided for the choices made.\n",
    "</span>"
   ]
  },
  {
   "cell_type": "markdown",
   "metadata": {},
   "source": [
    "### <span style=\"color:rgb(50,50,50)\">Section 5 SPECIFICATION</span>\n",
    "#### <span style=\"color:rgb(183,28,28)\">Some discussion is given around how you improved the reliability of the classifier i.e., fewer false positives and more reliable car detections (this could be things like choice of feature vector, thresholding the decision function, hard negative mining etc.)</span>\n",
    "<span style=\"color:rgb(50,50,50)\">Tip: Lots of flexibility here. The basic idea is that students try to optimize the performance of their classifier in some way before moving on to the video processing stage.</span>"
   ]
  },
  {
   "cell_type": "markdown",
   "metadata": {},
   "source": [
    "## <span style=\"color:rgb(41,121,255)\">Video Implementation</span>\n"
   ]
  },
  {
   "cell_type": "markdown",
   "metadata": {},
   "source": [
    "### <span style=\"color:rgb(50,50,50)\">Section 6 SPECIFICATION</span>\n",
    "#### <span style=\"color:rgb(183,28,28)\">The sliding-window search plus classifier has been used to search for and identify vehicles in the videos provided. Video output has been generated with detected vehicle positions drawn (bounding boxes, circles, cubes, etc.) on each frame of video.</span>\n",
    "<span style=\"color:rgb(50,50,50)\">Tip: Here, we're not looking for any specific accuracy level (minimum criterion would be at least more true positives than false positives) but the result should demonstrate that the classifier is doing a reasonable job of identifying cars in video frames without too many false positives.</span>"
   ]
  },
  {
   "cell_type": "markdown",
   "metadata": {},
   "source": [
    "### <span style=\"color:rgb(50,50,50)\">Section 7 SPECIFICATION</span>\n",
    "#### <span style=\"color:rgb(183,28,28)\">A method, such as requiring that a detection be found at or near the same position in several subsequent frames, (could be a heat map showing the location of repeat detections) is implemented as a means of rejecting false positives, and this demonstrably reduces the number of false positives. Same or similar method used to draw bounding boxes (or circles, cubes, etc.) around high-confidence detections where multiple overlapping detections occur.</span>\n",
    "<span style=\"color:rgb(50,50,50)\">Tip: The most likely way students will implement this step is to require that a positive detection be made at or near the same position in several subsequent frames of video. However, they are free to try other parameters / methods for false positive rejection, as long as they can show it improves their detection accuracy.</span>"
   ]
  },
  {
   "cell_type": "markdown",
   "metadata": {},
   "source": [
    "## <span style=\"color:rgb(41,121,255)\">Discussion</span>\n"
   ]
  },
  {
   "cell_type": "markdown",
   "metadata": {},
   "source": [
    "### <span style=\"color:rgb(50,50,50)\">Section 8 SPECIFICATION</span>\n",
    "#### <span style=\"color:rgb(183,28,28)\">Discussion includes some consideration of problems/issues faced, what could be improved about their algorithm/pipeline, and what hypothetical cases would cause their pipeline to fail.</span>\n",
    "<span style=\"color:rgb(50,50,50)\">Tip: This point is quite flexible. As long as a student has taken some time to reflect on the project and included some thoughts this point should pass.\n",
    "</span>"
   ]
  },
  {
   "cell_type": "markdown",
   "metadata": {},
   "source": [
    "## <span style=\"color:rgb(41,121,255)\">Bamboo Robocyst Encouragement</span>"
   ]
  },
  {
   "cell_type": "markdown",
   "metadata": {},
   "source": []
  },
  {
   "cell_type": "markdown",
   "metadata": {
    "collapsed": true
   },
   "source": []
  },
  {
   "cell_type": "code",
   "execution_count": null,
   "metadata": {
    "collapsed": true
   },
   "outputs": [],
   "source": []
  }
 ],
 "metadata": {
  "anaconda-cloud": {},
  "kernelspec": {
   "display_name": "Python 3",
   "language": "python",
   "name": "python3"
  },
  "language_info": {
   "codemirror_mode": {
    "name": "ipython",
    "version": 3
   },
   "file_extension": ".py",
   "mimetype": "text/x-python",
   "name": "python",
   "nbconvert_exporter": "python",
   "pygments_lexer": "ipython3",
   "version": "3.6.3"
  }
 },
 "nbformat": 4,
 "nbformat_minor": 1
}
